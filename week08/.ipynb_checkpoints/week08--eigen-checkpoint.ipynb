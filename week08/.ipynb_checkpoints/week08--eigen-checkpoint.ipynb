{
 "cells": [
  {
   "cell_type": "markdown",
   "metadata": {
    "slideshow": {
     "slide_type": "slide"
    }
   },
   "source": [
    "Math087 - Mathematical Modeling\n",
    "===============================\n",
    "[Tufts University](http://www.tufts.edu) -- [Department of Math](http://math.tufts.edu)  \n",
    "[George McNinch](http://gmcninch.math.tufts.edu) <george.mcninch@tufts.edu>  \n",
    "*Fall 2020*\n",
    "\n",
    "Course material (Week 8): Power-iteration & eigenvalues\n",
    "-------------------------------------------------------"
   ]
  },
  {
   "cell_type": "markdown",
   "metadata": {
    "slideshow": {
     "slide_type": "slide"
    }
   },
   "source": [
    "Eigenvalues & power-iteration\n",
    "=============================\n",
    "\n",
    "Let $A \\in \\mathbb{R}^{n \\times n}$ be a square matrix.\n",
    "Our goal is to understand the *eventual behavior* of powers of $A$; i.e. the matrices $A^m$ for $m \\to \\infty$.\n",
    "\n",
    "\n"
   ]
  },
  {
   "cell_type": "markdown",
   "metadata": {
    "slideshow": {
     "slide_type": "slide"
    }
   },
   "source": [
    "Example: Diagonal matrices\n",
    "---------------------------\n",
    "\n",
    "Let's look at a simple example. Consider the following matrix:\n",
    "\n",
    "$$A = \\begin{bmatrix}\n",
    "\\lambda_1 & 0 & 0 & 0 \\\\\n",
    "0 & \\lambda_2 & 0 & 0 \\\\\n",
    "0 & 0 & \\lambda_3 & 0  \\\\\n",
    "0 & 0 & 0 & \\lambda_4 \\\\\n",
    "\\end{bmatrix}$$\n",
    "\n",
    "In this case, it is easy to understand the powers of $A$; indeed, we have\n",
    "\n",
    "$$A^m = \\begin{bmatrix}\n",
    "\\lambda_1^m & 0 & 0 & 0 \\\\\n",
    "0 & \\lambda_2^m & 0 & 0 \\\\\n",
    "0 & 0 & \\lambda_3^m & 0  \\\\\n",
    "0 & 0 & 0 & \\lambda_4^m \\\\\n",
    "\\end{bmatrix}$$\n",
    "\n",
    "\n"
   ]
  },
  {
   "cell_type": "markdown",
   "metadata": {
    "slideshow": {
     "slide_type": "subslide"
    }
   },
   "source": [
    "example, continued\n",
    "------------------\n",
    "Observe that if $|\\lambda| < 1$, then $\\lambda^m \\to 0$ as $m \\to \\infty$. So e.g.\n",
    "if $|\\lambda_i| < 1$ for $i=1,2,3,4$, then \n",
    "\n",
    "$$A^m \\to \\mathbf{0} \\quad \\text{as} \\quad m \\to \\infty.$$\n",
    "\n",
    "If $\\lambda_1 = 1$ and $|\\lambda_i| < 1$ for $i = 2,3,4$, then\n",
    "\n",
    "$$A^m \\to  \\begin{bmatrix}\n",
    "1 & 0 & 0 & 0 \\\\\n",
    "0 & 0 & 0 & 0 \\\\\n",
    "0 & 0 & 0 & 0  \\\\\n",
    "0 & 0 & 0 & 0 \\\\\n",
    "\\end{bmatrix}.$$\n",
    "\n",
    "On the other hand, if $|\\lambda_i| > 1$ for some $i$, \n",
    "then $\\lim_{m \\to \\infty} A^m$ doesn't exist, because\n",
    "$\\lambda_i^m \\to \\pm \\infty$ as $m \\to \\infty$.\n",
    "\n",
    "Of course, \"most\" matrices aren't diagonal, or at least not *literally*."
   ]
  },
  {
   "cell_type": "markdown",
   "metadata": {
    "slideshow": {
     "slide_type": "slide"
    }
   },
   "source": [
    "Eigenvalues and eigenvectors\n",
    "-----------------------------\n",
    "\n",
    "Recall that a number $\\lambda \\in\\mathbb{R}$ is an *eigenvalue* of $A$ if there is a non-zero vector $\\mathbf{v} \\in \\mathbb{R}^n$ for which\n",
    "$$A \\mathbf{v} = \\lambda \\mathbf{v};$$\n",
    "$\\mathbf{v}$ is then called an *eigenvector*.\n",
    "\n",
    "If $A$ is diagonal -- e.g. if \n",
    "\n",
    "$$A = \\begin{bmatrix}\n",
    "\\lambda_1 & 0 & 0 & 0 \\\\\n",
    "0 & \\lambda_2 & 0 & 0 \\\\\n",
    "0 & 0 & \\lambda_3 & 0  \\\\\n",
    "0 & 0 & 0 & \\lambda_4 \\\\\n",
    "\\end{bmatrix} =\\operatorname{diag}(\\lambda_1,\\lambda_2,\\lambda_3,\\lambda_4)$$\n",
    "\n",
    "-- it is easy to see that each standard basis vector $\\mathbf{e}_i$\n",
    "is an eigenvector, with corresponding eigenvalue $\\lambda_i$ (the $(i,i)$-the entry of $A$).\n",
    "\n"
   ]
  },
  {
   "cell_type": "markdown",
   "metadata": {
    "slideshow": {
     "slide_type": "subslide"
    }
   },
   "source": [
    "Eigenvectors\n",
    "------------\n",
    "\n",
    "Now suppose that $A$ is an $n\\times n$ matrix, that\n",
    "$\\mathbf{v}_1,\\dots,\\mathbf{v}_n$ are eigenvectors for $A$, and that\n",
    "$\\lambda_1,\\dots,\\lambda_n$ are the corresponding eigenvalues.\n",
    "Write\n",
    "$$P = \\begin{bmatrix} \\mathbf{v}_1 & \\cdots & \\mathbf{v}_n \\end{bmatrix}$$\n",
    "for the matrix whose columns are the $\\mathbf{v}_i$.\n",
    "\n",
    "**Theorem 0**: $P$ is invertible if and only if the vectors $\\mathbf{v}_1,\\dots,\\mathbf{v}_n$ are linearly independent.\n",
    "\n",
    "**Theorem 1**: If the eigenvalues $\\lambda_1,\\dots,\\lambda_n$ are *distinct*, then the vectors $\\mathbf{v}_1,\\dots,\\mathbf{v}_n$ are\n",
    "linearly independent, and in particular, the matrix $P$ is invertible.\n",
    "\n",
    "\n"
   ]
  },
  {
   "cell_type": "markdown",
   "metadata": {
    "slideshow": {
     "slide_type": "slide"
    }
   },
   "source": [
    "Diagonalizable matrices\n",
    "-----------------------\n",
    "\n",
    "**Theorem 2**: If the eigenvectors $\\mathbf{v}_1,\\dots,\\mathbf{v}_n$\n",
    "are linearly independent -- equivalently, if the matrix $P$ is invertible -- then \n",
    "$$P^{-1} A P = \\begin{bmatrix}\n",
    "\\lambda_1 & 0 & 0 & 0 \\\\\n",
    "0 & \\lambda_2 & 0 & 0 \\\\\n",
    "\\vdots & \\vdots & \\ddots & \\vdots  \\\\\n",
    "0 & 0 & 0 & \\lambda_n \\\\\n",
    "\\end{bmatrix} = \\operatorname{diag}(\\lambda_1,\\dots,\\lambda_n)$$\n",
    "i.e. $P^{-1} A P$ is the diagonal matrix $n \\times n$ matrix whose diagonal entries\n",
    "are $\\lambda_1,\\dots,\\lambda_n$.\n",
    "\n",
    "Because of **Theorem 2**, one says that the $n \\times n$ matrix $A$ is *diagonalizable* if it has $n$ linearly independent eigenvectors.\n",
    "\n",
    "Thus if we are willing to replace our matrix by the *conjugate* matrix $P^{-1} A P$, then for $A$ diagonalizable, for some purposes \"we  may as well suppose that $A$ is diagonal\" (though of course that statement is imprecise!).\n",
    "\n"
   ]
  },
  {
   "cell_type": "markdown",
   "metadata": {
    "slideshow": {
     "slide_type": "slide"
    }
   },
   "source": [
    "Finding eigenvalues\n",
    "-------------------\n",
    "\n",
    "One might wonder \"how do I find eigenvalues\"? The answer is: the eigenvalues of $A$ are the roots of the *characteristic polynomial* $p_A(t)$ of $A$, where:\n",
    "\n",
    "$$p_A(t) = \\operatorname{det}(A - t \\cdot \\mathbf{I_n}).$$\n",
    "\n",
    "**Proposition**: The characteristic polynomial $p_A(t)$ of the $n\\times n$ matrix $A$ has degree $n$, and thus $A$ has no more than $n$ distinct eigenvalues.\n",
    "\n",
    "**Remark:** The eigenvalues of $A$ are complex numbers which in general may fail to be real numbers, even when $A$ has only real-number coefficients.\n",
    "\n",
    "--------------\n",
    "\n"
   ]
  },
  {
   "cell_type": "markdown",
   "metadata": {
    "slideshow": {
     "slide_type": "subslide"
    }
   },
   "source": [
    "Tools for finding eigenvalues\n",
    "-----------------------------\n",
    "\n",
    "`python` and `numpy` provides tools for finding eigenvalues. Let's look at the following\n",
    "example:\n",
    "\n",
    "\n",
    "**Example:** Consider the matrix\n",
    "$$A = \\left(\\dfrac{1}{10}\\right)\\cdot \\begin{bmatrix} \n",
    "1 & 1 & 0 & 0 \\\\\n",
    "0 & 2 & 2 & 0 \\\\\n",
    "0 & 3 & 3 & 1 \\\\\n",
    "0 & 0 & 1 & 2 \n",
    "\\end{bmatrix}.$$"
   ]
  },
  {
   "cell_type": "code",
   "execution_count": 1,
   "metadata": {
    "slideshow": {
     "slide_type": "subslide"
    }
   },
   "outputs": [
    {
     "data": {
      "text/plain": [
       "array([[0.10, 0.10, 0.00, 0.00],\n",
       "       [0.00, 0.20, 0.20, 0.00],\n",
       "       [0.00, 0.30, 0.30, 0.10],\n",
       "       [0.00, 0.00, 0.10, 0.20]])"
      ]
     },
     "execution_count": 1,
     "metadata": {},
     "output_type": "execute_result"
    }
   ],
   "source": [
    "import numpy as np\n",
    "import numpy.linalg as npl\n",
    "\n",
    "\n",
    "float_formatter = \"{:.2f}\".format\n",
    "np.set_printoptions(formatter={'float_kind':float_formatter})\n",
    "\n",
    "\n",
    "A = (1/10)*np.array([[1,1,0,0],[0,2,2,0],[0,3,3,1],[0,0,1,2]])\n",
    "\n",
    "A"
   ]
  },
  {
   "cell_type": "markdown",
   "metadata": {
    "slideshow": {
     "slide_type": "fragment"
    }
   },
   "source": [
    "Let's find the eigenvectors/values of this $4 \\times 4$ matrix $A$; we'll use\n",
    "the function ``eig`` found in the python module ``numpy.linalg``:"
   ]
  },
  {
   "cell_type": "code",
   "execution_count": 2,
   "metadata": {
    "slideshow": {
     "slide_type": "fragment"
    }
   },
   "outputs": [
    {
     "data": {
      "text/plain": [
       "[array([0.10, 0.52, -0.02, 0.20]),\n",
       " array([[1.00, -0.12, -0.47, -0.30],\n",
       "        [0.00, -0.51, 0.56, -0.30],\n",
       "        [0.00, -0.81, -0.62, -0.00],\n",
       "        [0.00, -0.25, 0.28, 0.90]])]"
      ]
     },
     "execution_count": 2,
     "metadata": {},
     "output_type": "execute_result"
    }
   ],
   "source": [
    "(e_vals,e_vecs) = npl.eig(A)\n",
    "[e_vals,e_vecs]"
   ]
  },
  {
   "cell_type": "markdown",
   "metadata": {
    "slideshow": {
     "slide_type": "subslide"
    }
   },
   "source": [
    "The function ``eig`` returns a \"list of np arrays\". This first array contains\n",
    "the eigenvalues, and the second contains the a matrix whose *columns* are the eigenvectors.\n",
    "\n",
    "We've assigned the first component of the list to the variable ``e_vals``\n",
    "and the second to ``e_vecs``.\n",
    "\n",
    "To get the individual eigenvectors, we need to [slice](https://numpy.org/doc/stable/user/basics.indexing.html#basics-indexing) the array ``e_vecs``.\n",
    "\n",
    "For example, to get the 0-th (\"first\"!) eigenvector, we can use\n",
    "\n",
    "``e_vecs[:,0]``\n",
    "\n",
    "Here, the argument ``:`` indicates that the full range should be used in the first index dimension, and the argument ``0`` indicates the the second index dimension of the slice is ``0``. Thus ``numpy`` returns the array whose entries are ``e_vecs[0,0], e_vecs[1,0], e_vecs[2,0], e_vecs[3,0]``.\n",
    "\n",
    "Let's confirm that this is really an eigenvector with the indicated eigenvalue:"
   ]
  },
  {
   "cell_type": "code",
   "execution_count": 3,
   "metadata": {
    "slideshow": {
     "slide_type": "subslide"
    }
   },
   "outputs": [
    {
     "data": {
      "text/plain": [
       "[array([1.00, 0.00, 0.00, 0.00]),\n",
       " array([0.10, 0.00, 0.00, 0.00]),\n",
       " array([0.10, 0.00, 0.00, 0.00]),\n",
       " True]"
      ]
     },
     "execution_count": 3,
     "metadata": {},
     "output_type": "execute_result"
    }
   ],
   "source": [
    "v = e_vecs[:,0]\n",
    "[v,A @ v,e_vals[0]*v, (A @ v - e_vals[0] * v < 1e-7).all()]"
   ]
  },
  {
   "cell_type": "markdown",
   "metadata": {
    "slideshow": {
     "slide_type": "subslide"
    }
   },
   "source": [
    "Let's check *all* of the eigenvalues:"
   ]
  },
  {
   "cell_type": "code",
   "execution_count": 4,
   "metadata": {
    "slideshow": {
     "slide_type": "subslide"
    }
   },
   "outputs": [],
   "source": [
    "def check(A):\n",
    "    e_vals,e_vecs = npl.eig(A)\n",
    "    \n",
    "    def check_i(i):\n",
    "        lam = e_vals[i]\n",
    "        v= e_vecs[:,i]\n",
    "        return \"\\n\".join([f\"lambda   = {lam}\",\n",
    "                          f\"v        = {v}\",\n",
    "                          f\"Av       = {A @ v}\",\n",
    "                          f\"lambda*v = {lam * v}\",\n",
    "                          f\"match?:    {(np.abs(A @ v - lam * v) < 1e-7).all()}\",\n",
    "                          \"\"])\n",
    "    return \"\\n\".join([check_i(i) for i in range(len(e_vals))])\n",
    "\n"
   ]
  },
  {
   "cell_type": "code",
   "execution_count": 5,
   "metadata": {
    "slideshow": {
     "slide_type": "subslide"
    }
   },
   "outputs": [
    {
     "name": "stdout",
     "output_type": "stream",
     "text": [
      "lambda   = 0.1\n",
      "v        = [1.00 0.00 0.00 0.00]\n",
      "Av       = [0.10 0.00 0.00 0.00]\n",
      "lambda*v = [0.10 0.00 0.00 0.00]\n",
      "match?:    True\n",
      "\n",
      "lambda   = 0.5192582403567257\n",
      "v        = [-0.12 -0.51 -0.81 -0.25]\n",
      "Av       = [-0.06 -0.26 -0.42 -0.13]\n",
      "lambda*v = [-0.06 -0.26 -0.42 -0.13]\n",
      "match?:    True\n",
      "\n",
      "lambda   = -0.019258240356725218\n",
      "v        = [-0.47 0.56 -0.62 0.28]\n",
      "Av       = [0.01 -0.01 0.01 -0.01]\n",
      "lambda*v = [0.01 -0.01 0.01 -0.01]\n",
      "match?:    True\n",
      "\n",
      "lambda   = 0.19999999999999998\n",
      "v        = [-0.30 -0.30 -0.00 0.90]\n",
      "Av       = [-0.06 -0.06 -0.00 0.18]\n",
      "lambda*v = [-0.06 -0.06 -0.00 0.18]\n",
      "match?:    True\n",
      "\n"
     ]
    }
   ],
   "source": [
    "print(check(A))"
   ]
  },
  {
   "cell_type": "markdown",
   "metadata": {
    "slideshow": {
     "slide_type": "subslide"
    }
   },
   "source": [
    "Let's observe that $A$ has 4 distinct eigenvalues, and is thus diagonalizable.\n",
    "Moreover, every eigenvalue $\\lambda$ of $A$ satisfies $|\\lambda| < 1$.\n",
    "Thus, we conclude that $A^m \\to \\mathbf{0}$ as $m \\to \\infty$.\n",
    "\n",
    "And indeed, we confirm that:"
   ]
  },
  {
   "cell_type": "code",
   "execution_count": 6,
   "metadata": {
    "slideshow": {
     "slide_type": "fragment"
    }
   },
   "outputs": [
    {
     "name": "stdout",
     "output_type": "stream",
     "text": [
      "A^24 == 0\n"
     ]
    }
   ],
   "source": [
    "res=[(npl.matrix_power(A,j) - np.zeros((4,4)) < 1e-7*np.ones((4,4))).all() for j in range(50)]\n",
    "\n",
    "j = res.index(True)   ## find the first instance in the list of results      \n",
    "\n",
    "print(f\"A^{j} == 0\")"
   ]
  },
  {
   "cell_type": "markdown",
   "metadata": {
    "slideshow": {
     "slide_type": "slide"
    }
   },
   "source": [
    "Eigenvalues and power iteration.\n",
    "--------------------------------\n",
    "\n",
    "**Theorem 3**: Let $A$ be a diagonalizable $n \\times n$, with $n$ linearly independent eigenvectors $\\mathbf{v}_1,\\dots,\\mathbf{v}_n$\n",
    "with corresponding eigenvalues $\\lambda_1,\\dots,\\lambda_n$.\n",
    "As before, write\n",
    "\n",
    "$$P = \\begin{bmatrix} \n",
    "\\mathbf{v}_1 & \\cdots & \\mathbf{v}_n \n",
    "\\end{bmatrix}.$$\n",
    "\n",
    "**a)** Suppose $|\\lambda_i| <1$ for all $i$. Then $A^m \\to \\mathbf{0}$ as $m \\to \\infty$.\n",
    "\n",
    "**b)** Suppose that $\\lambda_1 = 1$, and $|\\lambda_i| <1$ for $2 \\le i \\le n$. \n",
    "Any vector $\\mathbf{v} \\in \\mathbb{R}^n$ may be written\n",
    "\n",
    "$$\\mathbf{v} = \\sum_{i=1}^n c_i \\mathbf{v}_i.$$\n",
    "\n",
    "If $c_1 \\ne 0$, then \n",
    "$$A^m \\mathbf{v} = c_1\\mathbf{v}_1 \n",
    "\\quad \\text{as} \\quad m \\to \\infty.$$\n",
    "\n",
    "If $c_1 = 0$ then\n",
    "$$A^m \\mathbf{v} =  \\mathbf{0}\n",
    "\\quad \\text{as} \\quad m \\to \\infty.$$"
   ]
  },
  {
   "cell_type": "markdown",
   "metadata": {
    "slideshow": {
     "slide_type": "subslide"
    }
   },
   "source": [
    "Proof:\n",
    "------\n",
    "\n",
    "For **a)**, note that $P^{-1} A P = \\operatorname{diag}(\\lambda_1,\\dots,\\lambda_n)$.\n",
    "Which shows that\n",
    "\n",
    "$$(P^{-1} A P)^m = \\operatorname{diag}(\\lambda_1,\\dots,\\lambda_n)^m = \n",
    "\\operatorname{diag}(\\lambda_1^m,\\dots,\\lambda_n^m) \\to \\mathbf{0} \\quad \\text{as $m \\to \\infty$}.$$\n",
    "\n",
    "Let's now notice that\n",
    "$$(P^{-1} A P)^2 = (P^{-1} A P)(P^{-1} A P) = P^{-1} A A P = P^{-1} A^2 P$$\n",
    "and more generally\n",
    "$$(P^{-1} A P)^m = P^{-1} A^m P \\quad \\text{for $m \\ge 0$}.$$\n",
    "\n",
    "We now see that \n",
    "$$P^{-1} A^m P  \\to \\mathbf{0} \\quad \\text{as $m \\to \\infty$}$$\n",
    "so that\n",
    "$$A^m  \\to P \\cdot \\mathbf{0} \\cdot P^{-1} = \\mathbf{0} \\quad \\text{as $m \\to \\infty$}$$\n"
   ]
  },
  {
   "cell_type": "markdown",
   "metadata": {
    "slideshow": {
     "slide_type": "subslide"
    }
   },
   "source": [
    "Proof of **b)**:\n",
    "----------------\n",
    "\n",
    "Recall that $\\mathbf{v} = \\sum_{i=1}^n c_i \\mathbf{v}_i$.\n",
    "\n",
    "For $i > 1$, **a)** shows that \n",
    "$$A^m \\mathbf{v}_i \\to \\mathbf{0} \\quad \\text{as $m \\to \\infty$}.$$\n",
    "\n",
    "while\n",
    "\n",
    "$$A^m \\mathbf{v}_1 = \\mathbf{v}_1 \\quad \\text{for all $m$}.$$\n",
    "\n",
    "The preceding discussion now shows that \n",
    "\n",
    "$$A^m \\mathbf{v} = \\sum_{i=1}^n c_i A^m \\mathbf{v}_i \\mapsto c_1 \\mathbf{v_1}$$\n",
    "\n",
    "and **b)** follows at once."
   ]
  },
  {
   "cell_type": "markdown",
   "metadata": {
    "slideshow": {
     "slide_type": "slide"
    }
   },
   "source": [
    "Corollary\n",
    "---------\n",
    "\n",
    "Suppose that $A$ is diagonalizable with eigenvalues $\\lambda_1,\\dots,\\lambda_n$, that\n",
    "$\\lambda_1 = 1$, and that $|\\lambda_i| < 1$ for $i =2,...,n$.\n",
    "Let $\\mathbf{v_1}$ be a 1-eigenvector for $A$.\n",
    "\n",
    "Then \n",
    "\n",
    "$$A^m \\to B \\quad \\text{as $m \\to \\infty$}$$\n",
    "\n",
    "for a matrix $B$ with the property that each column of $B$ is either $\\mathbf{0}$\n",
    "or some multiple of $\\mathbf{v_1}$.\n",
    "\n",
    "**Indeed:** the $i$th column of $B$ can be found by computing\n",
    "\n",
    "$$(\\heartsuit) \\quad \\lim_{m \\to \\infty} A^m \\mathbf{e}_i$$\n",
    "\n",
    "where $\\mathbf{e}_i$ is the $i$th standard basis vector.\n",
    "\n",
    "We've seen above that $(\\heartsuit)$ is either $0$ or a multiple of $\\mathbf{v}$, depending\n",
    "on whether or not the coefficient $c_1$ in the expression\n",
    "\n",
    "$$\\mathbf{e}_i = \\sum_{j =1}^n c_j \\mathbf{v}_j$$\n",
    "\n",
    "is zero."
   ]
  },
  {
   "cell_type": "markdown",
   "metadata": {
    "slideshow": {
     "slide_type": "slide"
    }
   },
   "source": [
    "Examples revisited: population growth & aging\n",
    "---------------------------------------------\n",
    "\n",
    "Recall from last week our finite-state machine describing population & aging.\n",
    "\n",
    "We considered a population of organisms described by:"
   ]
  },
  {
   "cell_type": "code",
   "execution_count": 30,
   "metadata": {
    "slideshow": {
     "slide_type": "subslide"
    },
    "tags": [
     "hide"
    ]
   },
   "outputs": [
    {
     "data": {
      "image/svg+xml": [
       "<?xml version=\"1.0\" encoding=\"UTF-8\" standalone=\"no\"?>\n",
       "<!DOCTYPE svg PUBLIC \"-//W3C//DTD SVG 1.1//EN\"\n",
       " \"http://www.w3.org/Graphics/SVG/1.1/DTD/svg11.dtd\">\n",
       "<!-- Generated by graphviz version 2.40.1 (20161225.0304)\n",
       " -->\n",
       "<!-- Title: pop Pages: 1 -->\n",
       "<svg width=\"529pt\" height=\"168pt\"\n",
       " viewBox=\"0.00 0.00 528.97 168.00\" xmlns=\"http://www.w3.org/2000/svg\" xmlns:xlink=\"http://www.w3.org/1999/xlink\">\n",
       "<g id=\"graph0\" class=\"graph\" transform=\"scale(1 1) rotate(0) translate(4 164)\">\n",
       "<title>pop</title>\n",
       "<polygon fill=\"#ffffff\" stroke=\"transparent\" points=\"-4,4 -4,-164 524.9712,-164 524.9712,4 -4,4\"/>\n",
       "<!-- Age 0 -->\n",
       "<g id=\"node1\" class=\"node\">\n",
       "<title>Age 0</title>\n",
       "<ellipse fill=\"none\" stroke=\"#000000\" cx=\"32.4971\" cy=\"-91\" rx=\"32.4942\" ry=\"18\"/>\n",
       "<text text-anchor=\"middle\" x=\"32.4971\" y=\"-87.3\" font-family=\"Times,serif\" font-size=\"14.00\" fill=\"#000000\">Age 0</text>\n",
       "</g>\n",
       "<!-- Age 1 -->\n",
       "<g id=\"node2\" class=\"node\">\n",
       "<title>Age 1</title>\n",
       "<ellipse fill=\"none\" stroke=\"#000000\" cx=\"146.4913\" cy=\"-142\" rx=\"32.4942\" ry=\"18\"/>\n",
       "<text text-anchor=\"middle\" x=\"146.4913\" y=\"-138.3\" font-family=\"Times,serif\" font-size=\"14.00\" fill=\"#000000\">Age 1</text>\n",
       "</g>\n",
       "<!-- Age 0&#45;&gt;Age 1 -->\n",
       "<g id=\"edge1\" class=\"edge\">\n",
       "<title>Age 0&#45;&gt;Age 1</title>\n",
       "<path fill=\"none\" stroke=\"#000000\" d=\"M44.5065,-107.9536C53.6222,-119.2968 67.2483,-133.3256 82.9942,-140 89.6202,-142.8086 96.9935,-144.3154 104.3029,-145.0015\"/>\n",
       "<polygon fill=\"#000000\" stroke=\"#000000\" points=\"104.3576,-148.5077 114.5091,-145.4752 104.6822,-141.5153 104.3576,-148.5077\"/>\n",
       "<text text-anchor=\"middle\" x=\"89.4942\" y=\"-146.8\" font-family=\"Times,serif\" font-size=\"14.00\" fill=\"#000000\">s0</text>\n",
       "</g>\n",
       "<!-- Age 1&#45;&gt;Age 0 -->\n",
       "<g id=\"edge3\" class=\"edge\">\n",
       "<title>Age 1&#45;&gt;Age 0</title>\n",
       "<path fill=\"none\" stroke=\"#000000\" d=\"M120.8689,-130.5367C104.9758,-123.4263 84.3551,-114.2008 67.0307,-106.45\"/>\n",
       "<polygon fill=\"#000000\" stroke=\"#000000\" points=\"68.3536,-103.2076 57.7961,-102.3186 65.4949,-109.5973 68.3536,-103.2076\"/>\n",
       "<text text-anchor=\"middle\" x=\"89.4942\" y=\"-121.8\" font-family=\"Times,serif\" font-size=\"14.00\" fill=\"#000000\">f1</text>\n",
       "</g>\n",
       "<!-- Age 2 -->\n",
       "<g id=\"node3\" class=\"node\">\n",
       "<title>Age 2</title>\n",
       "<ellipse fill=\"none\" stroke=\"#000000\" cx=\"260.4856\" cy=\"-91\" rx=\"32.4942\" ry=\"18\"/>\n",
       "<text text-anchor=\"middle\" x=\"260.4856\" y=\"-87.3\" font-family=\"Times,serif\" font-size=\"14.00\" fill=\"#000000\">Age 2</text>\n",
       "</g>\n",
       "<!-- Age 1&#45;&gt;Age 2 -->\n",
       "<g id=\"edge2\" class=\"edge\">\n",
       "<title>Age 1&#45;&gt;Age 2</title>\n",
       "<path fill=\"none\" stroke=\"#000000\" d=\"M171.7904,-130.6814C187.6188,-123.6 208.2293,-114.379 225.5982,-106.6083\"/>\n",
       "<polygon fill=\"#000000\" stroke=\"#000000\" points=\"227.1643,-109.742 234.8631,-102.4633 224.3056,-103.3523 227.1643,-109.742\"/>\n",
       "<text text-anchor=\"middle\" x=\"203.4885\" y=\"-121.8\" font-family=\"Times,serif\" font-size=\"14.00\" fill=\"#000000\">s1</text>\n",
       "</g>\n",
       "<!-- Age 2&#45;&gt;Age 0 -->\n",
       "<g id=\"edge5\" class=\"edge\">\n",
       "<title>Age 2&#45;&gt;Age 0</title>\n",
       "<path fill=\"none\" stroke=\"#000000\" d=\"M227.881,-91C187.7854,-91 119.6138,-91 75.3264,-91\"/>\n",
       "<polygon fill=\"#000000\" stroke=\"#000000\" points=\"75.1623,-87.5001 65.1623,-91 75.1623,-94.5001 75.1623,-87.5001\"/>\n",
       "<text text-anchor=\"middle\" x=\"146.4913\" y=\"-94.8\" font-family=\"Times,serif\" font-size=\"14.00\" fill=\"#000000\">f2</text>\n",
       "</g>\n",
       "<!-- Age 3 -->\n",
       "<g id=\"node4\" class=\"node\">\n",
       "<title>Age 3</title>\n",
       "<ellipse fill=\"none\" stroke=\"#000000\" cx=\"374.4798\" cy=\"-48\" rx=\"32.4942\" ry=\"18\"/>\n",
       "<text text-anchor=\"middle\" x=\"374.4798\" y=\"-44.3\" font-family=\"Times,serif\" font-size=\"14.00\" fill=\"#000000\">Age 3</text>\n",
       "</g>\n",
       "<!-- Age 2&#45;&gt;Age 3 -->\n",
       "<g id=\"edge4\" class=\"edge\">\n",
       "<title>Age 2&#45;&gt;Age 3</title>\n",
       "<path fill=\"none\" stroke=\"#000000\" d=\"M287.5006,-80.8096C302.4399,-75.1743 321.2209,-68.0899 337.5043,-61.9476\"/>\n",
       "<polygon fill=\"#000000\" stroke=\"#000000\" points=\"339.1425,-65.0705 347.2636,-58.2663 336.6719,-58.5209 339.1425,-65.0705\"/>\n",
       "<text text-anchor=\"middle\" x=\"317.4827\" y=\"-73.8\" font-family=\"Times,serif\" font-size=\"14.00\" fill=\"#000000\">s2</text>\n",
       "</g>\n",
       "<!-- Age 3&#45;&gt;Age 0 -->\n",
       "<g id=\"edge7\" class=\"edge\">\n",
       "<title>Age 3&#45;&gt;Age 0</title>\n",
       "<path fill=\"none\" stroke=\"#000000\" d=\"M342.4433,-51.2341C312.7448,-54.295 267.3436,-59.134 227.9885,-64 174.7696,-70.5801 113.5526,-79.2066 74.0098,-84.9176\"/>\n",
       "<polygon fill=\"#000000\" stroke=\"#000000\" points=\"73.3441,-81.4774 63.9494,-86.3753 74.348,-88.4051 73.3441,-81.4774\"/>\n",
       "<text text-anchor=\"middle\" x=\"203.4885\" y=\"-70.8\" font-family=\"Times,serif\" font-size=\"14.00\" fill=\"#000000\">f3</text>\n",
       "</g>\n",
       "<!-- Age 4 -->\n",
       "<g id=\"node5\" class=\"node\">\n",
       "<title>Age 4</title>\n",
       "<ellipse fill=\"none\" stroke=\"#000000\" cx=\"488.474\" cy=\"-18\" rx=\"32.4942\" ry=\"18\"/>\n",
       "<text text-anchor=\"middle\" x=\"488.474\" y=\"-14.3\" font-family=\"Times,serif\" font-size=\"14.00\" fill=\"#000000\">Age 4</text>\n",
       "</g>\n",
       "<!-- Age 3&#45;&gt;Age 4 -->\n",
       "<g id=\"edge6\" class=\"edge\">\n",
       "<title>Age 3&#45;&gt;Age 4</title>\n",
       "<path fill=\"none\" stroke=\"#000000\" d=\"M403.8362,-40.2743C417.5575,-36.6632 434.0988,-32.31 448.9043,-28.4136\"/>\n",
       "<polygon fill=\"#000000\" stroke=\"#000000\" points=\"450.0411,-31.7337 458.821,-25.8038 448.2595,-24.9642 450.0411,-31.7337\"/>\n",
       "<text text-anchor=\"middle\" x=\"431.4769\" y=\"-37.8\" font-family=\"Times,serif\" font-size=\"14.00\" fill=\"#000000\">s3</text>\n",
       "</g>\n",
       "<!-- Age 4&#45;&gt;Age 0 -->\n",
       "<g id=\"edge8\" class=\"edge\">\n",
       "<title>Age 4&#45;&gt;Age 0</title>\n",
       "<path fill=\"none\" stroke=\"#000000\" d=\"M458.1545,-11.3998C435.2782,-6.9924 403.0579,-2 374.4798,-2 146.4913,-2 146.4913,-2 146.4913,-2 104.8041,-2 69.2408,-39.436 49.3929,-65.7491\"/>\n",
       "<polygon fill=\"#000000\" stroke=\"#000000\" points=\"46.5607,-63.6928 43.5131,-73.8399 52.2233,-67.808 46.5607,-63.6928\"/>\n",
       "<text text-anchor=\"middle\" x=\"260.4856\" y=\"-5.8\" font-family=\"Times,serif\" font-size=\"14.00\" fill=\"#000000\">f4</text>\n",
       "</g>\n",
       "</g>\n",
       "</svg>\n"
      ],
      "text/plain": [
       "<graphviz.dot.Digraph at 0x7f584090ad30>"
      ]
     },
     "execution_count": 30,
     "metadata": {},
     "output_type": "execute_result"
    }
   ],
   "source": [
    "from graphviz import Digraph\n",
    "pop = Digraph(\"pop\")\n",
    "pop.attr(rankdir='LR')\n",
    "\n",
    "p = list(range(5))\n",
    "with pop.subgraph() as c:\n",
    "#    c.attr(rank='same')\n",
    "    for i in p:\n",
    "        c.node(f\"Age {i}\")\n",
    "\n",
    "for i in p:\n",
    "    if i+1 in p:\n",
    "        pop.edge(f\"Age {i}\",f\"Age {i+1}\",f\"s{i}\")\n",
    "    if i != 0:\n",
    "        pop.edge(f\"Age {i}\",\"Age 0\",f\"f{i}\")\n",
    "    \n",
    "pop"
   ]
  },
  {
   "cell_type": "markdown",
   "metadata": {
    "slideshow": {
     "slide_type": "subslide"
    }
   },
   "source": [
    "We suppose that $s_7 = 0$, so that the life-span of the organism in question is $\\le 8$ time units.\n",
    "\n",
    "If the population at time $t$ is described by $\\mathbf{p}^{(t)} = \\begin{bmatrix} p_0 & p_1 & \\cdots & p_7 \\end{bmatrix}^T$ then the population at time $t+1$ is given by\n",
    "$$\\mathbf{p}^{(t+1)} = \\begin{bmatrix} \\sum_{i=0}^7 f_i p_i & s_0p_0 & \\cdots & s_6 p_6 \\end{bmatrix}^T\n",
    "= A\\mathbf{p}^{(t)}$$\n",
    "where $$A = \\begin{bmatrix}\n",
    "f_0 & f_1 & f_2 & \\cdots & f_6 & f_7 \\\\\n",
    "s_0 & 0 & 0  & \\cdots & 0 & 0 \\\\\n",
    "0 & s_1 & 0  & \\cdots & 0 & 0  \\\\\n",
    "0 & 0 & s_2  & \\cdots & 0 & 0 \\\\\n",
    "\\vdots & \\vdots & \\vdots & \\ddots & \\vdots & \\vdots \\\\\n",
    "0 & 0 & 0 & \\cdots  & s_6 & 0  \n",
    "\\end{bmatrix}.$$"
   ]
  },
  {
   "cell_type": "markdown",
   "metadata": {
    "slideshow": {
     "slide_type": "subslide"
    }
   },
   "source": [
    "parameters\n",
    "----------\n",
    "\n",
    "Previously, we considered this model for two different sets of parameters:\n",
    "\n",
    "\n",
    "```\n",
    "fA = [.30,.50,.35,.25,.25,.15,.15,.5]\n",
    "sA = [.30,.60,.55,.50,.30,.15,.05,0]\n",
    "```\n",
    "\n",
    "and\n",
    "\n",
    "\n",
    "```\n",
    "fB = [.50,.70,.55,.35,.35,.15,.15,.5]\n",
    "sB = [.40,.70,.55,.50,.35,.15,.05,0]\n",
    "```"
   ]
  },
  {
   "cell_type": "code",
   "execution_count": 76,
   "metadata": {
    "slideshow": {
     "slide_type": "subslide"
    }
   },
   "outputs": [],
   "source": [
    "import numpy as np\n",
    "\n",
    "\n",
    "float_formatter = \"{:.2f}\".format\n",
    "np.set_printoptions(formatter={'float_kind':float_formatter})\n",
    "\n",
    "def bv(ind,list):\n",
    "    return np.array([1.0 if i == list.index(ind) else 0.0 for i in range(len(list))])\n",
    "\n",
    "## note\n",
    "## bv(\"b\",[\"a\",\"b\",\"c\"])\n",
    "## >> np.array([0,1,0])\n",
    "\n",
    "ones = np.ones(8)\n",
    "\n",
    "def A(f=[],s=[]):\n",
    "    return np.array([np.array(f)]\n",
    "                    +\n",
    "                    [x*bv(x,s) for x in s[:-1]])\n",
    "\n",
    "def display(f,s):\n",
    "    e_val,e_vec = npl.eig(A(f,s))\n",
    "    s = [f\"Eigenvalues lambda of A when\",\n",
    "         f\" f = {f}\",\n",
    "         f\" s = {s}\",\n",
    "        \"are as follows:\"]\n",
    "    return \"\\n\".join(s+[f\" |lambda| = {np.abs(e):.5f}\" for e in e_val])\n"
   ]
  },
  {
   "cell_type": "code",
   "execution_count": 72,
   "metadata": {
    "slideshow": {
     "slide_type": "subslide"
    }
   },
   "outputs": [
    {
     "name": "stdout",
     "output_type": "stream",
     "text": [
      "Eigenvalues lambda of A when\n",
      " f = [0.3, 0.5, 0.35, 0.25, 0.25, 0.15, 0.15, 0.5]\n",
      " s = [0.3, 0.6, 0.55, 0.5, 0.3, 0.15, 0.05, 0]\n",
      "are as follows:\n",
      " |lambda| = 0.7665\n",
      " |lambda| = 0.3648\n",
      " |lambda| = 0.3648\n",
      " |lambda| = 0.3483\n",
      " |lambda| = 0.3483\n",
      " |lambda| = 0.0000\n",
      " |lambda| = 0.0000\n",
      " |lambda| = 0.0000\n"
     ]
    }
   ],
   "source": [
    "fA = [.30,.50,.35,.25,.25,.15,.15,.5]\n",
    "sA = [.30,.60,.55,.50,.30,.15,.05,0]\n",
    "print(display(fA,sA))"
   ]
  },
  {
   "cell_type": "code",
   "execution_count": 71,
   "metadata": {
    "slideshow": {
     "slide_type": "subslide"
    }
   },
   "outputs": [
    {
     "name": "stdout",
     "output_type": "stream",
     "text": [
      "Eigenvalues lambda of A when\n",
      " f = [0.5, 0.7, 0.55, 0.35, 0.35, 0.15, 0.15, 0.5]\n",
      " s = [0.4, 0.7, 0.55, 0.5, 0.35, 0.15, 0.05, 0]\n",
      "are as follows:\n",
      " |lambda| = 1.0105\n",
      " |lambda| = 0.3650\n",
      " |lambda| = 0.3650\n",
      " |lambda| = 0.3749\n",
      " |lambda| = 0.3749\n",
      " |lambda| = 0.1788\n",
      " |lambda| = 0.1729\n",
      " |lambda| = 0.1729\n"
     ]
    }
   ],
   "source": [
    "fB = [.50,.70,.55,.35,.35,.15,.15,.5]\n",
    "sB = [.40,.70,.55,.50,.35,.15,.05,0]\n",
    "print(display(fB,sB))"
   ]
  },
  {
   "cell_type": "markdown",
   "metadata": {
    "slideshow": {
     "slide_type": "subslide"
    }
   },
   "source": [
    "Let's look at one more example, now where the organisms have a max life-span of 4 time units (for simplicity!)\n",
    "\n",
    "Let's consider\n",
    "\n",
    "```\n",
    "fC = [0, .2, .49559, 0.4]\n",
    "sC = [.98, .96, .9, 0]\n",
    "```"
   ]
  },
  {
   "cell_type": "code",
   "execution_count": 134,
   "metadata": {
    "slideshow": {
     "slide_type": "fragment"
    }
   },
   "outputs": [
    {
     "name": "stdout",
     "output_type": "stream",
     "text": [
      "Eigenvalues lambda of A when\n",
      " f = [0.0, 0.2, 0.49559, 0.399]\n",
      " s = [0.9799, 0.96, 0.9, 0]\n",
      "are as follows:\n",
      " |lambda| = 1.00000\n",
      " |lambda| = 0.75089\n",
      " |lambda| = 0.75089\n",
      " |lambda| = 0.59912\n",
      "\n",
      "In fact, the largest eigenvalue is lambda = (0.9999969131763253+0j)\n",
      "\n",
      "& the corresponding eigenvector is [0.5298541 +0.j 0.51920563+0.j 0.49843895+0.j 0.44859644+0.j]\n"
     ]
    }
   ],
   "source": [
    "fC = [0.000, .2, .49559, 0.399]\n",
    "sC = [.9799, .96, .9, 0]\n",
    "print(display(fC,sC))\n",
    "\n",
    "e_vals,e_vecs = npl.eig(A(fC,sC))\n",
    "print(f\"\\nIn fact, the largest eigenvalue is lambda = {e_vals[0]}\")\n",
    "print(f\"\\n& the corresponding eigenvector is {e_vecs[:,0]}\")\n"
   ]
  },
  {
   "cell_type": "markdown",
   "metadata": {
    "slideshow": {
     "slide_type": "subslide"
    }
   },
   "source": [
    "Explainer\n",
    "---------\n",
    "\n",
    "In each case, the matrix $A$ has distinct eigenvalues (in case ``C`` there are two eigenvalues\n",
    "with the same absolute value, but they are complex and distinct from one another!) Thus $A$ is diagonalizable in each case.\n",
    "\n",
    "For the parameters ``fA,sA`` all eigenvalues of $A$ have absolute value $< 1$. This confirms our previous conclusion that \n",
    "\n",
    "$$A^m \\to \\mathbf{0} \\quad \\text{as $m \\to \\infty$}$$\n",
    "\n",
    "For the parameters ``fB,sB`` there is an eigenvalue of $A$ which has abolute value $1.01 >1$ (actually, this $1.01$ *is* the eigenvalue).\n",
    "Thus\n",
    "$A^m$ has no limiting value as $m \\to \\infty$.\n",
    "\n",
    "Finally, the parameters ``fC,sC`` yield an eigenvalue of $A$ which is very close to 1.\n",
    "\n"
   ]
  },
  {
   "cell_type": "markdown",
   "metadata": {
    "slideshow": {
     "slide_type": "subslide"
    }
   },
   "source": [
    "``fC,sC``\n",
    "---------\n",
    "\n",
    "In this setting, note that the corresponding 1-eigenvector is\n",
    "```\n",
    "w=[0.5298541, 0.51920563, 0.49843895, 0.44859644]\n",
    "```\n",
    "\n",
    "Let's normalize the vector ``w`` by dividing by the sum of its components:"
   ]
  },
  {
   "cell_type": "code",
   "execution_count": 131,
   "metadata": {
    "slideshow": {
     "slide_type": "fragment"
    }
   },
   "outputs": [
    {
     "data": {
      "text/plain": [
       "array([0.27, 0.26, 0.25, 0.22])"
      ]
     },
     "execution_count": 131,
     "metadata": {},
     "output_type": "execute_result"
    }
   ],
   "source": [
    "w=np.array([0.5298541, 0.51920563, 0.49843895, 0.44859644])\n",
    "ww = (1/sum(w,0))*w\n",
    "ww"
   ]
  },
  {
   "cell_type": "markdown",
   "metadata": {
    "slideshow": {
     "slide_type": "fragment"
    }
   },
   "source": [
    "Thus the components of ``ww`` sum to 1. They represent *probabilities*.\n",
    "\n",
    "We conclude that the expected longterm population distribution in this case is:\n",
    "\n",
    "| Age 0 | Age 1 | Age 2 | Age 3 |\n",
    "| -----:|------:|------:|------:|\n",
    "| 27 %  | 26 %  |  25 % |  22 % |"
   ]
  }
 ],
 "metadata": {
  "jupytext": {
   "formats": "ipynb,md"
  },
  "kernelspec": {
   "display_name": "Python 3",
   "language": "python",
   "name": "python3"
  },
  "language_info": {
   "codemirror_mode": {
    "name": "ipython",
    "version": 3
   },
   "file_extension": ".py",
   "mimetype": "text/x-python",
   "name": "python",
   "nbconvert_exporter": "python",
   "pygments_lexer": "ipython3",
   "version": "3.7.3"
  }
 },
 "nbformat": 4,
 "nbformat_minor": 4
}
