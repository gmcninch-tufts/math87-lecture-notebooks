{
 "cells": [
  {
   "cell_type": "markdown",
   "metadata": {},
   "source": [
    "Math087 - Mathematical Modeling\n",
    "===============================\n",
    "[Tufts University](http://www.tufts.edu) -- [Department of Math](http://math.tufts.edu)  \n",
    "[George McNinch](http://gmcninch.math.tufts.edu) <george.mcninch@tufts.edu>  \n",
    "*Fall 2020*\n",
    "\n",
    "Course material (Week 8): Problem session notebook\n",
    "---------------------------------------------------------------"
   ]
  },
  {
   "cell_type": "markdown",
   "metadata": {},
   "source": [
    "Introduction\n",
    "============\n",
    "\n",
    "Last week, we introduced some finite-state machines whose transition behavior could be described by a matrix. This week, we investigate properties of such matrices, by studying their eigenvalues and eigenvectors."
   ]
  },
  {
   "cell_type": "markdown",
   "metadata": {},
   "source": [
    "Eigen-stuff\n",
    "============\n",
    "\n",
    "Recall that a number $\\lambda \\in\\mathbb{R}$ is an *eigenvalue* of $A \\in \\mathbb{R}^{n \\times n}$ if there is a non-zero vector $\\mathbf{v} \\in \\mathbb{R}^n$ for which\n",
    "$$A \\mathbf{v} = \\lambda \\mathbf{v};$$\n",
    "$\\mathbf{v}$ is then called an *eigenvector*.\n",
    "\n",
    "If $A$ is diagonal -- e.g. if \n",
    "\n",
    "$$A = \\begin{bmatrix}\n",
    "\\lambda_1 & 0 & 0 & 0 \\\\\n",
    "0 & \\lambda_2 & 0 & 0 \\\\\n",
    "0 & 0 & \\lambda_3 & 0  \\\\\n",
    "0 & 0 & 0 & \\lambda_4 \\\\\n",
    "\\end{bmatrix} =\\operatorname{diag}(\\lambda_1,\\lambda_2,\\lambda_3,\\lambda_4)$$\n",
    "\n",
    "-- it is easy to see that each standard basis vector $\\mathbf{e}_i$\n",
    "is an eigenvector, with corresponding eigenvalue $\\lambda_i$ (the $(i,i)$-the entry of $A$)."
   ]
  },
  {
   "cell_type": "markdown",
   "metadata": {},
   "source": [
    "Diagonalizable matrices\n",
    "=======================\n",
    "\n",
    "Now suppose that $A$ is an $n\\times n$ matrix, that\n",
    "$\\mathbf{v}_1,\\dots,\\mathbf{v}_n$ are eigenvectors for $A$, and that\n",
    "$\\lambda_1,\\dots,\\lambda_n$ are the corresponding eigenvalues.\n",
    "Write\n",
    "$$P = \\begin{bmatrix} \\mathbf{v}_1 & \\cdots & \\mathbf{v}_n \\end{bmatrix}$$\n",
    "for the matrix whose columns are the $\\mathbf{v}_i$.\n",
    "\n",
    "**Theorem**: If the eigenvectors $\\mathbf{v}_1,\\dots,\\mathbf{v}_n$\n",
    "are linearly independent -- equivalently, if the matrix $P$ is invertible -- then \n",
    "$$P^{-1} A P = \\begin{bmatrix}\n",
    "\\lambda_1 & 0 & 0 & 0 \\\\\n",
    "0 & \\lambda_2 & 0 & 0 \\\\\n",
    "\\vdots & \\vdots & \\ddots & \\vdots  \\\\\n",
    "0 & 0 & 0 & \\lambda_n \\\\\n",
    "\\end{bmatrix} = \\operatorname{diag}(\\lambda_1,\\dots,\\lambda_n)$$\n",
    "i.e. $P^{-1} A P$ is the diagonal matrix $n \\times n$ matrix whose diagonal entries\n",
    "are $\\lambda_1,\\dots,\\lambda_n$.\n",
    "\n",
    "---------------"
   ]
  },
  {
   "cell_type": "markdown",
   "metadata": {},
   "source": [
    "Diagonalizable matrices & power iteration\n",
    "=========================================\n",
    "**Theorem**: Let $A$ be a diagonalizable $n \\times n$, with $n$ linearly independent eigenvectors $\\mathbf{v}_1,\\dots,\\mathbf{v}_n$\n",
    "with corresponding eigenvalues $\\lambda_1,\\dots,\\lambda_n$.\n",
    "As before, write\n",
    "\n",
    "$$P = \\begin{bmatrix} \n",
    "\\mathbf{v}_1 & \\cdots & \\mathbf{v}_n \n",
    "\\end{bmatrix}.$$\n",
    "\n",
    "**a)** Suppose $|\\lambda_i| <1$ for all $i$. Then $A^m \\to \\mathbf{0}$ as $m \\to \\infty$.\n",
    "\n",
    "**b)** Suppose that $\\lambda_1 = 1$, and $|\\lambda_i| <1$ for $2 \\le i \\le n$. \n",
    "Any vector $\\mathbf{v} \\in \\mathbb{R}^n$ may be written\n",
    "\n",
    "$$\\mathbf{v} = \\sum_{i=1}^n c_i \\mathbf{v}_i.$$\n",
    "\n",
    "If $c_1 \\ne 0$, then \n",
    "$$A^m \\mathbf{v} = c_1\\mathbf{v}_1 \n",
    "\\quad \\text{as} \\quad m \\to \\infty.$$\n",
    "\n",
    "If $c_1 = 0$ then\n",
    "$$A^m \\mathbf{v} =  \\mathbf{0}\n",
    "\\quad \\text{as} \\quad m \\to \\infty.$$\n",
    "\n",
    "Corollary\n",
    "---------\n",
    "\n",
    "Suppose that $A$ is diagonalizable with eigenvalues $\\lambda_1,\\dots,\\lambda_n$, that\n",
    "$\\lambda_1 = 1$, and that $|\\lambda_i| < 1$ for $i =2,...,n$.\n",
    "Let $\\mathbf{v_1}$ be a 1-eigenvector for $A$.\n",
    "\n",
    "Then \n",
    "\n",
    "$$A^m \\to B \\quad \\text{as $m \\to \\infty$}$$\n",
    "\n",
    "for a matrix $B$ with the property that each column of $B$ is either $\\mathbf{0}$\n",
    "or some multiple of $\\mathbf{v_1}$.\n",
    "\n",
    "----------------"
   ]
  },
  {
   "cell_type": "markdown",
   "metadata": {},
   "source": [
    "Stochastic Matrices\n",
    "====================\n",
    "\n",
    "A vector $\\mathbf{v} = \\begin{bmatrix} v_1 & v_2 & \\cdots & v_n \\end{bmatrix}^T \\in \\mathbb{R}^n$ will be said to be a *probability vector* if\n",
    "all of its entries $v_i$ satisfy $v_i \\ge 0$ and if\n",
    "$$\\begin{bmatrix} 1 & 1 & \\cdots & 1 \\end{bmatrix} \\cdot \\mathbf{v} = \\sum_{i=1}^n v_i = 1.$$\n",
    "\n",
    "Let $A = \\begin{bmatrix} a_{ij} \\end{bmatrix} \\in \\mathbb{R}^{n \\times n}$. We say that $A$ is a *stochastic matrix* if $a_{ij} \\ge 0$ for all $i,j$ and if\n",
    "$$\\begin{bmatrix} 1 & 1 & \\cdots & 1 \\end{bmatrix} \\cdot A = \\begin{bmatrix} 1 &  1 &  \\cdots & 1 \\end{bmatrix};$$\n",
    "in words, $A$ is a stochastic matrix if each column of $A$ is a probability vector.\n",
    "\n",
    "\n",
    "**Proposition:** Let $A$ be a stochastic matrix.  \n",
    "**a)** $A$ has an eigenvector with eigenvalue 1.  \n",
    "**b)** Let $\\lambda$ be any eigenvalue of a $A$.  Then $|\\lambda| \\le 1$.  \n",
    "**c)** If $\\mathbf{w}$ is an eigenvector of $A$ with eigenvalue $\\lambda$ satisfying\n",
    "$\\lambda \\ne 1$ then $\\begin{bmatrix} 1 & 1 & \\cdots & 1 \\end{bmatrix} \\mathbf{w} = 0$.\n",
    "\n",
    "**Corollary:**\n",
    "Suppose that the stochastic matrix $A$ is diagonalizable, and that  the *1-eigenspace* of $A$ has dimension 1. Let $\\mathbf{v}$ be an eigenvector for $A$ with eigenvalue 1, and set $c = \\begin{bmatrix} 1 & 1 & \\cdots & 1 \\end{bmatrix} \\mathbf{v}$.\n",
    "Then $\\mathbf{w} = \\dfrac{\\mathbf{v}}{c}$ is a probability vector, and\n",
    "\n",
    "$$A^m \\to B \\quad \\text{as $m \\to \\infty$}$$\n",
    "\n",
    "for a stochastic matrix $B$. Each column of $B$ is equal to $\\mathbf{w}$.\n",
    "\n",
    "------\n",
    "\n",
    "**Theorem: (Perron-Frobenius)** Let $G$ be a transition diagram for a Markov chain, and suppose that $G$ is strongly connected and aperiodic. Let $P$ be the corresponding stochastic matrix. The multiplicity of the eigenvalue $\\lambda = 1$ for $P$ is 1 -- i.e.\n",
    "\n",
    "$$\\dim \\operatorname{Null}(P-I_n) = 1.$$\n",
    "\n",
    "All other eigenvalues $\\lambda$ satisfy $|\\lambda|  < 1$.\n",
    "\n",
    "There is a $1$-eigenvector $\\mathbf{v}$ which is a probability vector.\n",
    "\n",
    "--------------"
   ]
  },
  {
   "cell_type": "code",
   "execution_count": null,
   "metadata": {},
   "outputs": [],
   "source": [
    "import numpy as np\n",
    "\n",
    "from numpy.random import default_rng\n",
    "\n",
    "from numpy.linalg import eig, matrix_power\n",
    "\n",
    "rng = default_rng()\n",
    "\n",
    "def rand_stoch(n):\n",
    "    v=np.array([rng.random(n) for i in range(n)])\n",
    "    f=np.ones(n)@v\n",
    "    return (1/f)*v\n"
   ]
  },
  {
   "cell_type": "code",
   "execution_count": null,
   "metadata": {},
   "outputs": [],
   "source": [
    "T=rand_stoch(8)\n",
    "np.ones(8)@T"
   ]
  },
  {
   "cell_type": "code",
   "execution_count": null,
   "metadata": {},
   "outputs": [],
   "source": [
    "e_vals,e_vecs = eig(T)"
   ]
  },
  {
   "cell_type": "code",
   "execution_count": null,
   "metadata": {},
   "outputs": [],
   "source": [
    "e_vals"
   ]
  },
  {
   "cell_type": "code",
   "execution_count": null,
   "metadata": {},
   "outputs": [],
   "source": [
    "w=e_vecs[:,0]\n",
    "v = (1/(np.ones(8)@w))*w\n",
    "v"
   ]
  },
  {
   "cell_type": "code",
   "execution_count": null,
   "metadata": {},
   "outputs": [],
   "source": [
    "vv=(matrix_power(T,200)[:,0])"
   ]
  },
  {
   "cell_type": "code",
   "execution_count": null,
   "metadata": {},
   "outputs": [],
   "source": [
    "vv"
   ]
  },
  {
   "cell_type": "code",
   "execution_count": null,
   "metadata": {},
   "outputs": [],
   "source": [
    "v-vv < 1e-7*np.ones(8)"
   ]
  },
  {
   "cell_type": "code",
   "execution_count": null,
   "metadata": {},
   "outputs": [],
   "source": [
    "(v-vv < 1e-7*np.ones(8)).all()"
   ]
  },
  {
   "cell_type": "markdown",
   "metadata": {},
   "source": [
    "How to rank-order the entries in  a vector??\n",
    "---------------------------------------------\n",
    "\n",
    "Python can sort -- but sometimes you don't just want the sorted values.\n"
   ]
  },
  {
   "cell_type": "code",
   "execution_count": null,
   "metadata": {},
   "outputs": [],
   "source": [
    "vv"
   ]
  },
  {
   "cell_type": "code",
   "execution_count": null,
   "metadata": {},
   "outputs": [],
   "source": [
    "ll = [(i,vv[i]) for i in range(8)]\n",
    "ll"
   ]
  },
  {
   "cell_type": "code",
   "execution_count": null,
   "metadata": {},
   "outputs": [],
   "source": [
    "ll.sort(key=lambda x:(-1)*x[1])"
   ]
  },
  {
   "cell_type": "code",
   "execution_count": null,
   "metadata": {},
   "outputs": [],
   "source": [
    "ll"
   ]
  },
  {
   "cell_type": "code",
   "execution_count": null,
   "metadata": {},
   "outputs": [],
   "source": [
    "def top_ten(n,it):\n",
    "    T=rand_stoch(n)\n",
    "    vv=matrix_power(T,it)[:,0]\n",
    "    ll=[(i,vv[i]) for i in range(n)]\n",
    "    ll.sort(key=lambda x:(-1)*x[1])\n",
    "    iter_string = \"\\n\".join([f\"{l[0]:3d} - {l[1]:.5f}\" for l in ll[0:10]])\n",
    "    \n",
    "    e_vals,e_vecs = eig(T)\n",
    "    w=e_vecs[:,0]\n",
    "    ww = (1/(np.ones(n)@w))*w\n",
    "    kl=[(i,ww[i]) for i in range(n)]\n",
    "    kl.sort(key=lambda x:(-1)*x[1])\n",
    "    eig_string = \"\\n\".join([f\"{l[0]:3d} - {l[1]:.5f}\" for l in kl[0:10]])\n",
    "    \n",
    "    return iter_string + \"\\n\\n\" + eig_string"
   ]
  },
  {
   "cell_type": "code",
   "execution_count": null,
   "metadata": {},
   "outputs": [],
   "source": [
    "print(top_ten(50,2))"
   ]
  }
 ],
 "metadata": {
  "kernelspec": {
   "display_name": "Python 3",
   "language": "python",
   "name": "python3"
  },
  "language_info": {
   "codemirror_mode": {
    "name": "ipython",
    "version": 3
   },
   "file_extension": ".py",
   "mimetype": "text/x-python",
   "name": "python",
   "nbconvert_exporter": "python",
   "pygments_lexer": "ipython3",
   "version": "3.7.3"
  }
 },
 "nbformat": 4,
 "nbformat_minor": 4
}
